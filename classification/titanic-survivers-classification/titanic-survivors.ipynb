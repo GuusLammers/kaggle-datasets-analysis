{
 "cells": [
  {
   "cell_type": "markdown",
   "source": [
    "# Predicting Titanic Survivors\r\n",
    "## Project Description\r\n",
    "On April 15, 1912 the Titanic collided with an ice berg and sunk on her way to New York City. Using data from the Titanic's passanger manifest, the machine learning model I am creating will try to predict whether a passanger survived or not.  \r\n",
    "## Importing Libraries"
   ],
   "metadata": {}
  },
  {
   "cell_type": "code",
   "execution_count": 1,
   "source": [
    "import numpy as np\r\n",
    "import pandas as pd"
   ],
   "outputs": [],
   "metadata": {}
  },
  {
   "cell_type": "markdown",
   "source": [
    "## Importing Datasets"
   ],
   "metadata": {}
  },
  {
   "cell_type": "code",
   "execution_count": 2,
   "source": [
    "test = pd.read_csv('test.csv')\r\n",
    "train = pd.read_csv('train.csv')"
   ],
   "outputs": [],
   "metadata": {}
  },
  {
   "cell_type": "markdown",
   "source": [
    "## Drop Unwanted Columns\r\n",
    "The columns that will be dropped are \"Passengerid\", \"Name\", \"Ticket\", and \"Cabin\".  "
   ],
   "metadata": {}
  },
  {
   "cell_type": "code",
   "execution_count": 3,
   "source": [
    "train = train.drop(['PassengerId', 'Name', 'Ticket', 'Cabin'], axis=1)"
   ],
   "outputs": [],
   "metadata": {}
  },
  {
   "cell_type": "markdown",
   "source": [
    "# Remove Rows Containing NaN\r\n",
    "Remove rows where the Embarked column is empty."
   ],
   "metadata": {}
  },
  {
   "cell_type": "code",
   "execution_count": 4,
   "source": [
    "train = train.dropna(subset=['Age', 'Embarked'])"
   ],
   "outputs": [],
   "metadata": {}
  },
  {
   "cell_type": "markdown",
   "source": [
    "## Seperate Training Data into Input and Output\r\n",
    "With this step I am putting the independent variables in X and the dependent variables in Y."
   ],
   "metadata": {}
  },
  {
   "cell_type": "code",
   "execution_count": 5,
   "source": [
    "X = train.drop(['Survived'], axis=1)\r\n",
    "Y = train['Survived']"
   ],
   "outputs": [],
   "metadata": {}
  },
  {
   "cell_type": "markdown",
   "source": [
    "## Encoding Categorical Data\r\n",
    "The categorical data that I will be one hot encoding are columns \"Pclass\" and \"Embarked\"."
   ],
   "metadata": {}
  },
  {
   "cell_type": "code",
   "execution_count": 6,
   "source": [
    "from sklearn.compose import ColumnTransformer\r\n",
    "from sklearn.preprocessing import OneHotEncoder\r\n",
    "\r\n",
    "# instantiate OneHotEncoder object\r\n",
    "ohe = OneHotEncoder()\r\n",
    "# instantiate ColumnTransformer object\r\n",
    "ct = ColumnTransformer(transformers=[('encoder1', ohe, ['Pclass']), ('encoder2', ohe, ['Embarked'])], remainder='passthrough')\r\n",
    "# transform data in array X\r\n",
    "X = ct.fit_transform(X)"
   ],
   "outputs": [],
   "metadata": {}
  },
  {
   "cell_type": "markdown",
   "source": [
    "The categorical data that I will be label encoding is column \"Sex\"."
   ],
   "metadata": {}
  },
  {
   "cell_type": "code",
   "execution_count": 7,
   "source": [
    "from sklearn.preprocessing import LabelEncoder\r\n",
    "\r\n",
    "# instantiate LabelEncoder object\r\n",
    "le = LabelEncoder()\r\n",
    "# transform data in array X\r\n",
    "X = pd.DataFrame(X) \r\n",
    "X[6] = le.fit_transform(pd.DataFrame(X)[6])"
   ],
   "outputs": [],
   "metadata": {}
  },
  {
   "cell_type": "markdown",
   "source": [
    "## Feature Scaling"
   ],
   "metadata": {}
  },
  {
   "cell_type": "code",
   "execution_count": 8,
   "source": [
    "from sklearn.preprocessing import StandardScaler\r\n",
    "\r\n",
    "# instantiate StandardScalar object\r\n",
    "sc = StandardScaler()\r\n",
    "# scale age and price data\r\n",
    "X[7] = sc.fit_transform(np.asarray(X[7]).reshape(-1, 1))\r\n",
    "X[10] = sc.fit_transform(np.asarray(X[10]).reshape(-1, 1))"
   ],
   "outputs": [],
   "metadata": {}
  },
  {
   "cell_type": "markdown",
   "source": [
    "## Splitting the Dataset into the Training set and Test set"
   ],
   "metadata": {}
  },
  {
   "cell_type": "code",
   "execution_count": 9,
   "source": [
    "from sklearn.model_selection import train_test_split\r\n",
    "\r\n",
    "# split dataset, train:test split is 80:20\r\n",
    "X_train, X_test, y_train, y_test = train_test_split(X, Y, test_size = 0.2, random_state = 1)"
   ],
   "outputs": [],
   "metadata": {}
  },
  {
   "cell_type": "markdown",
   "source": [
    "# Classification Model Analysis\r\n",
    "## KNN\r\n",
    "Train the classification model."
   ],
   "metadata": {}
  },
  {
   "cell_type": "code",
   "execution_count": 10,
   "source": [
    "from sklearn.neighbors import KNeighborsClassifier \r\n",
    "\r\n",
    "# instantiate knn object\r\n",
    "knn = KNeighborsClassifier(n_neighbors=3)\r\n",
    "# train model\r\n",
    "knn = knn.fit(X_train, y_train)"
   ],
   "outputs": [],
   "metadata": {}
  },
  {
   "cell_type": "markdown",
   "source": [
    "Print out the models accuracy."
   ],
   "metadata": {}
  },
  {
   "cell_type": "code",
   "execution_count": 11,
   "source": [
    "knn.score(X_test, y_test)"
   ],
   "outputs": [
    {
     "output_type": "execute_result",
     "data": {
      "text/plain": [
       "0.7552447552447552"
      ]
     },
     "metadata": {},
     "execution_count": 11
    }
   ],
   "metadata": {}
  },
  {
   "cell_type": "markdown",
   "source": [
    "# Conclusion\r\n",
    "The models accuracy using KNN with 3 neighbors is approximately 75%. This could potentially be improved by reducing the number of sensors or by using a different classification algorithm."
   ],
   "metadata": {}
  }
 ],
 "metadata": {
  "orig_nbformat": 4,
  "language_info": {
   "name": "python",
   "version": "3.8.3",
   "mimetype": "text/x-python",
   "codemirror_mode": {
    "name": "ipython",
    "version": 3
   },
   "pygments_lexer": "ipython3",
   "nbconvert_exporter": "python",
   "file_extension": ".py"
  },
  "kernelspec": {
   "name": "python3",
   "display_name": "Python 3.8.3 64-bit ('base': conda)"
  },
  "interpreter": {
   "hash": "51afa76c9cec09a39cd42c306ec3c3e22074ca702f273726ea1f50dadf4bde15"
  }
 },
 "nbformat": 4,
 "nbformat_minor": 2
}