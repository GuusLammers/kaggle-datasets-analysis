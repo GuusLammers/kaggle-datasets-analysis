{
 "cells": [
  {
   "cell_type": "markdown",
   "source": [
    "# Predicting Titanic Survivers\r\n",
    "## Project Description\r\n",
    "On April 15, 1912 the Titanic collided with an ice berg and sunk on her way to New York City. Using data from the Titanic's passanger manifest, the machine learning model I am creating will try to predict whether a passanger survived or not.  \r\n",
    "## Importing Libraries"
   ],
   "metadata": {}
  },
  {
   "cell_type": "code",
   "execution_count": 104,
   "source": [
    "import numpy as np\r\n",
    "import pandas as pd"
   ],
   "outputs": [],
   "metadata": {}
  },
  {
   "cell_type": "markdown",
   "source": [
    "## Importing Datasets"
   ],
   "metadata": {}
  },
  {
   "cell_type": "code",
   "execution_count": 105,
   "source": [
    "test = pd.read_csv('test.csv')\r\n",
    "train = pd.read_csv('train.csv')"
   ],
   "outputs": [],
   "metadata": {}
  },
  {
   "cell_type": "markdown",
   "source": [
    "## Seperate Training Data into Input and Output\r\n",
    "With this step I am putting the independent variables in X and the dependent variables in Y."
   ],
   "metadata": {}
  },
  {
   "cell_type": "code",
   "execution_count": 106,
   "source": [
    "X = train.drop(['Survived'], axis=1)\r\n",
    "Y = train.iloc[:, 1]"
   ],
   "outputs": [],
   "metadata": {}
  },
  {
   "cell_type": "markdown",
   "source": [
    "## Encoding Categorical Data\r\n",
    "The categorical data that I will be one hot encoding are columns \"Pclass\" and \"Embarked\"."
   ],
   "metadata": {}
  },
  {
   "cell_type": "code",
   "execution_count": 107,
   "source": [
    "from sklearn.compose import ColumnTransformer\r\n",
    "from sklearn.preprocessing import OneHotEncoder\r\n",
    "\r\n",
    "# instantiate OneHotEncoder object\r\n",
    "ohe = OneHotEncoder()\r\n",
    "# instantiate ColumnTransformer object\r\n",
    "ct = ColumnTransformer(transformers=[('encoder1', ohe, [1])], remainder='passthrough')\r\n",
    "# transform data in array X\r\n",
    "X = ct.fit_transform(X)"
   ],
   "outputs": [],
   "metadata": {}
  },
  {
   "cell_type": "markdown",
   "source": [
    "The categorical data that I will be label encoding is column \"Sex\"."
   ],
   "metadata": {}
  },
  {
   "cell_type": "code",
   "execution_count": 108,
   "source": [
    "from sklearn.preprocessing import LabelEncoder\r\n",
    "\r\n",
    "# instantiate LabelEncoder object\r\n",
    "le = LabelEncoder()\r\n",
    "# transform data in array X\r\n",
    "X = pd.DataFrame(X) \r\n",
    "X[5] = le.fit_transform(pd.DataFrame(X)[5])"
   ],
   "outputs": [],
   "metadata": {}
  },
  {
   "cell_type": "markdown",
   "source": [
    "## Taking Care of Missing Age Data\r\n",
    "Currently I am just dropping the rows where age is missing. I may come back and change this dedpending on the models accuracy.\r\n"
   ],
   "metadata": {}
  },
  {
   "cell_type": "code",
   "execution_count": 109,
   "source": [
    "X = X.drop(X[pd.isna(X[6])].index)"
   ],
   "outputs": [],
   "metadata": {}
  },
  {
   "cell_type": "markdown",
   "source": [
    "## Feature Scaling"
   ],
   "metadata": {}
  },
  {
   "cell_type": "code",
   "execution_count": 110,
   "source": [
    "from sklearn.preprocessing import StandardScaler\r\n",
    "\r\n",
    "# instantiate StandardScaler object\r\n",
    "sc = StandardScaler()\r\n",
    "# transform data in array X\r\n"
   ],
   "outputs": [],
   "metadata": {}
  },
  {
   "cell_type": "markdown",
   "source": [
    "## Removing Bad Data\r\n",
    "A few columns in the training data contain bad data that will not help with my analysis. These columns are \"Passengerid\", \"Name\", \"Ticket\", and \"Cabin\"."
   ],
   "metadata": {}
  },
  {
   "cell_type": "code",
   "execution_count": 111,
   "source": [
    "#X = X.drop(['PassengerId', 'Name', 'Ticket', 'Cabin'], axis=1)"
   ],
   "outputs": [],
   "metadata": {}
  }
 ],
 "metadata": {
  "orig_nbformat": 4,
  "language_info": {
   "name": "python",
   "version": "3.8.3",
   "mimetype": "text/x-python",
   "codemirror_mode": {
    "name": "ipython",
    "version": 3
   },
   "pygments_lexer": "ipython3",
   "nbconvert_exporter": "python",
   "file_extension": ".py"
  },
  "kernelspec": {
   "name": "python3",
   "display_name": "Python 3.8.3 64-bit ('base': conda)"
  },
  "interpreter": {
   "hash": "51afa76c9cec09a39cd42c306ec3c3e22074ca702f273726ea1f50dadf4bde15"
  }
 },
 "nbformat": 4,
 "nbformat_minor": 2
}