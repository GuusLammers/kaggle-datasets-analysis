{
 "cells": [
  {
   "cell_type": "markdown",
   "metadata": {},
   "source": [
    "# Project Description\n",
    "A combined cycle power plant is an arrangement of multiple heat turbines that all draw from the same heat source to produce energy. Data on average ambient variables will be used to predict the net hourly electrical energy output of the power plant. Two sets of the data will be fit to both a multiple regression model and a SVM regression model and the outputs will be compared. One set will be the raw data and the other will be scaled using feature scaling.\n"
   ]
  },
  {
   "cell_type": "markdown",
   "metadata": {},
   "source": [
    "# Data Preprocessing\n",
    "## Importing the Libraries"
   ]
  },
  {
   "cell_type": "code",
   "execution_count": 46,
   "metadata": {},
   "outputs": [],
   "source": [
    "import numpy as np\n",
    "import pandas as pd"
   ]
  },
  {
   "cell_type": "markdown",
   "metadata": {},
   "source": [
    "## Importing Dataset"
   ]
  },
  {
   "cell_type": "code",
   "execution_count": 47,
   "metadata": {},
   "outputs": [],
   "source": [
    "dataset = pd.read_csv('Power Plant Data.csv')"
   ]
  },
  {
   "cell_type": "markdown",
   "metadata": {},
   "source": [
    "## Showing the Dataset in a Table"
   ]
  },
  {
   "cell_type": "code",
   "execution_count": 48,
   "metadata": {},
   "outputs": [
    {
     "data": {
      "text/html": [
       "<div>\n",
       "<style scoped>\n",
       "    .dataframe tbody tr th:only-of-type {\n",
       "        vertical-align: middle;\n",
       "    }\n",
       "\n",
       "    .dataframe tbody tr th {\n",
       "        vertical-align: top;\n",
       "    }\n",
       "\n",
       "    .dataframe thead th {\n",
       "        text-align: right;\n",
       "    }\n",
       "</style>\n",
       "<table border=\"1\" class=\"dataframe\">\n",
       "  <thead>\n",
       "    <tr style=\"text-align: right;\">\n",
       "      <th></th>\n",
       "      <th>Ambient Temperature (C)</th>\n",
       "      <th>Exhaust Vacuum (cm Hg)</th>\n",
       "      <th>Ambient Pressure (milibar)</th>\n",
       "      <th>Relative Humidity (%)</th>\n",
       "      <th>Hourly Electrical Energy output (MW)</th>\n",
       "    </tr>\n",
       "  </thead>\n",
       "  <tbody>\n",
       "    <tr>\n",
       "      <th>0</th>\n",
       "      <td>14.96</td>\n",
       "      <td>41.76</td>\n",
       "      <td>1024.07</td>\n",
       "      <td>73.17</td>\n",
       "      <td>463.26</td>\n",
       "    </tr>\n",
       "    <tr>\n",
       "      <th>1</th>\n",
       "      <td>25.18</td>\n",
       "      <td>62.96</td>\n",
       "      <td>1020.04</td>\n",
       "      <td>59.08</td>\n",
       "      <td>444.37</td>\n",
       "    </tr>\n",
       "    <tr>\n",
       "      <th>2</th>\n",
       "      <td>5.11</td>\n",
       "      <td>39.40</td>\n",
       "      <td>1012.16</td>\n",
       "      <td>92.14</td>\n",
       "      <td>488.56</td>\n",
       "    </tr>\n",
       "    <tr>\n",
       "      <th>3</th>\n",
       "      <td>20.86</td>\n",
       "      <td>57.32</td>\n",
       "      <td>1010.24</td>\n",
       "      <td>76.64</td>\n",
       "      <td>446.48</td>\n",
       "    </tr>\n",
       "    <tr>\n",
       "      <th>4</th>\n",
       "      <td>10.82</td>\n",
       "      <td>37.50</td>\n",
       "      <td>1009.23</td>\n",
       "      <td>96.62</td>\n",
       "      <td>473.90</td>\n",
       "    </tr>\n",
       "    <tr>\n",
       "      <th>...</th>\n",
       "      <td>...</td>\n",
       "      <td>...</td>\n",
       "      <td>...</td>\n",
       "      <td>...</td>\n",
       "      <td>...</td>\n",
       "    </tr>\n",
       "    <tr>\n",
       "      <th>9563</th>\n",
       "      <td>16.65</td>\n",
       "      <td>49.69</td>\n",
       "      <td>1014.01</td>\n",
       "      <td>91.00</td>\n",
       "      <td>460.03</td>\n",
       "    </tr>\n",
       "    <tr>\n",
       "      <th>9564</th>\n",
       "      <td>13.19</td>\n",
       "      <td>39.18</td>\n",
       "      <td>1023.67</td>\n",
       "      <td>66.78</td>\n",
       "      <td>469.62</td>\n",
       "    </tr>\n",
       "    <tr>\n",
       "      <th>9565</th>\n",
       "      <td>31.32</td>\n",
       "      <td>74.33</td>\n",
       "      <td>1012.92</td>\n",
       "      <td>36.48</td>\n",
       "      <td>429.57</td>\n",
       "    </tr>\n",
       "    <tr>\n",
       "      <th>9566</th>\n",
       "      <td>24.48</td>\n",
       "      <td>69.45</td>\n",
       "      <td>1013.86</td>\n",
       "      <td>62.39</td>\n",
       "      <td>435.74</td>\n",
       "    </tr>\n",
       "    <tr>\n",
       "      <th>9567</th>\n",
       "      <td>21.60</td>\n",
       "      <td>62.52</td>\n",
       "      <td>1017.23</td>\n",
       "      <td>67.87</td>\n",
       "      <td>453.28</td>\n",
       "    </tr>\n",
       "  </tbody>\n",
       "</table>\n",
       "<p>9568 rows × 5 columns</p>\n",
       "</div>"
      ],
      "text/plain": [
       "      Ambient Temperature (C)   Exhaust Vacuum (cm Hg)  \\\n",
       "0                        14.96                   41.76   \n",
       "1                        25.18                   62.96   \n",
       "2                         5.11                   39.40   \n",
       "3                        20.86                   57.32   \n",
       "4                        10.82                   37.50   \n",
       "...                        ...                     ...   \n",
       "9563                     16.65                   49.69   \n",
       "9564                     13.19                   39.18   \n",
       "9565                     31.32                   74.33   \n",
       "9566                     24.48                   69.45   \n",
       "9567                     21.60                   62.52   \n",
       "\n",
       "      Ambient Pressure (milibar)  Relative Humidity (%)  \\\n",
       "0                        1024.07                  73.17   \n",
       "1                        1020.04                  59.08   \n",
       "2                        1012.16                  92.14   \n",
       "3                        1010.24                  76.64   \n",
       "4                        1009.23                  96.62   \n",
       "...                          ...                    ...   \n",
       "9563                     1014.01                  91.00   \n",
       "9564                     1023.67                  66.78   \n",
       "9565                     1012.92                  36.48   \n",
       "9566                     1013.86                  62.39   \n",
       "9567                     1017.23                  67.87   \n",
       "\n",
       "      Hourly Electrical Energy output (MW)  \n",
       "0                                   463.26  \n",
       "1                                   444.37  \n",
       "2                                   488.56  \n",
       "3                                   446.48  \n",
       "4                                   473.90  \n",
       "...                                    ...  \n",
       "9563                                460.03  \n",
       "9564                                469.62  \n",
       "9565                                429.57  \n",
       "9566                                435.74  \n",
       "9567                                453.28  \n",
       "\n",
       "[9568 rows x 5 columns]"
      ]
     },
     "execution_count": 48,
     "metadata": {},
     "output_type": "execute_result"
    }
   ],
   "source": [
    "dataset"
   ]
  },
  {
   "cell_type": "markdown",
   "metadata": {},
   "source": [
    "## Seperate The Input and Output\n",
    "Here, we put the independent variables in X and the dependent variable in y. "
   ]
  },
  {
   "cell_type": "code",
   "execution_count": 49,
   "metadata": {},
   "outputs": [],
   "source": [
    "X = dataset.iloc[:, :-1].values\n",
    "y = dataset.iloc[:, -1].values"
   ]
  },
  {
   "cell_type": "markdown",
   "metadata": {},
   "source": [
    "## Feature Scaling the Independent Variables"
   ]
  },
  {
   "cell_type": "code",
   "execution_count": 50,
   "metadata": {},
   "outputs": [],
   "source": [
    "from sklearn.preprocessing import StandardScaler\n",
    "# instantiate StandardScalar object\n",
    "scx = StandardScaler()\n",
    "scy = StandardScaler()\n",
    "# scale independent data\n",
    "X = scx.fit_transform(X[:, :])\n",
    "# reshape and scale dependent data\n",
    "y = scy.fit_transform(y.reshape(len(y),1))"
   ]
  },
  {
   "cell_type": "markdown",
   "metadata": {},
   "source": [
    "## Splitting the Dataset into the Training set and Test set"
   ]
  },
  {
   "cell_type": "code",
   "execution_count": 51,
   "metadata": {},
   "outputs": [],
   "source": [
    "from sklearn.model_selection import train_test_split\n",
    "X_train, X_test, y_train, y_test = train_test_split(X, y, test_size = 0.2, random_state = 1)"
   ]
  },
  {
   "cell_type": "markdown",
   "metadata": {},
   "source": [
    "# Regression Model Analysis\n",
    "## Multiple Regression\n",
    "Train the multiple regression model."
   ]
  },
  {
   "cell_type": "code",
   "execution_count": 52,
   "metadata": {},
   "outputs": [],
   "source": [
    "from sklearn import linear_model\n",
    "# instantiate linear regression object\n",
    "linear = linear_model.LinearRegression()\n",
    "# train models\n",
    "linear = linear.fit(X_train, y_train)"
   ]
  },
  {
   "cell_type": "markdown",
   "metadata": {},
   "source": [
    "## SVR \n",
    "Train the SVR model trying 4 different kernals."
   ]
  },
  {
   "cell_type": "code",
   "execution_count": 53,
   "metadata": {},
   "outputs": [],
   "source": [
    "from sklearn.svm import SVR\n",
    "# kernals to try\n",
    "kernals = ['linear', 'poly', 'rbf', 'sigmoid']\n",
    "# list to store models\n",
    "svr_models = []\n",
    "# train model using each different kernal and save results in list as tuples of form (kernal, model)\n",
    "for kernal in kernals:\n",
    "    regressor = SVR(kernel = kernal)\n",
    "    svr_models.append((kernal, regressor.fit(X_train, np.ravel(y_train))))"
   ]
  },
  {
   "cell_type": "markdown",
   "metadata": {},
   "source": [
    "# Checking Models with Test Set\n",
    "## Multiple Regression Models"
   ]
  },
  {
   "cell_type": "code",
   "execution_count": 85,
   "metadata": {},
   "outputs": [
    {
     "data": {
      "text/html": [
       "<div>\n",
       "<style scoped>\n",
       "    .dataframe tbody tr th:only-of-type {\n",
       "        vertical-align: middle;\n",
       "    }\n",
       "\n",
       "    .dataframe tbody tr th {\n",
       "        vertical-align: top;\n",
       "    }\n",
       "\n",
       "    .dataframe thead th {\n",
       "        text-align: right;\n",
       "    }\n",
       "</style>\n",
       "<table border=\"1\" class=\"dataframe\">\n",
       "  <thead>\n",
       "    <tr style=\"text-align: right;\">\n",
       "      <th></th>\n",
       "      <th>Predict</th>\n",
       "      <th>Test</th>\n",
       "    </tr>\n",
       "  </thead>\n",
       "  <tbody>\n",
       "    <tr>\n",
       "      <th>0</th>\n",
       "      <td>[457.25522107775566]</td>\n",
       "      <td>[458.96]</td>\n",
       "    </tr>\n",
       "    <tr>\n",
       "      <th>1</th>\n",
       "      <td>[466.7192736632424]</td>\n",
       "      <td>[463.29]</td>\n",
       "    </tr>\n",
       "    <tr>\n",
       "      <th>2</th>\n",
       "      <td>[440.3669491129304]</td>\n",
       "      <td>[435.27]</td>\n",
       "    </tr>\n",
       "    <tr>\n",
       "      <th>3</th>\n",
       "      <td>[482.57800980008994]</td>\n",
       "      <td>[484.31]</td>\n",
       "    </tr>\n",
       "    <tr>\n",
       "      <th>4</th>\n",
       "      <td>[474.88054717752976]</td>\n",
       "      <td>[473.55]</td>\n",
       "    </tr>\n",
       "  </tbody>\n",
       "</table>\n",
       "</div>"
      ],
      "text/plain": [
       "                Predict      Test\n",
       "0  [457.25522107775566]  [458.96]\n",
       "1   [466.7192736632424]  [463.29]\n",
       "2   [440.3669491129304]  [435.27]\n",
       "3  [482.57800980008994]  [484.31]\n",
       "4  [474.88054717752976]  [473.55]"
      ]
     },
     "execution_count": 85,
     "metadata": {},
     "output_type": "execute_result"
    }
   ],
   "source": [
    "# make prediction\n",
    "y_pred_linear = linear.predict(X_test)\n",
    "# show predicitons in table\n",
    "scy.inverse_transform(y_pred_linear)\n",
    "scy.inverse_transform(y_test)\n",
    "pd.DataFrame([np.ndarray.tolist(scy.inverse_transform(y_pred_linear)), np.ndarray.tolist(scy.inverse_transform(y_test))], index=['Predict', 'Test']).T.head()"
   ]
  },
  {
   "cell_type": "markdown",
   "metadata": {},
   "source": [
    "## SVR Models"
   ]
  },
  {
   "cell_type": "code",
   "execution_count": 88,
   "metadata": {},
   "outputs": [
    {
     "name": "stdout",
     "output_type": "stream",
     "text": [
      "  Predict linear      Test\n",
      "0        457.401  [458.96]\n",
      "1        466.691  [463.29]\n",
      "2        440.029  [435.27]\n",
      "3        482.924  [484.31]\n",
      "4        475.507  [473.55]\n",
      "\n",
      "  Predict poly      Test\n",
      "0      456.033  [458.96]\n",
      "1      462.224  [463.29]\n",
      "2      441.581  [435.27]\n",
      "3      483.013  [484.31]\n",
      "4      484.023  [473.55]\n",
      "\n",
      "  Predict rbf      Test\n",
      "0     457.066  [458.96]\n",
      "1     463.702  [463.29]\n",
      "2     437.547  [435.27]\n",
      "3     485.537  [484.31]\n",
      "4      478.09  [473.55]\n",
      "\n",
      "  Predict sigmoid      Test\n",
      "0         503.352  [458.96]\n",
      "1        -3131.87  [463.29]\n",
      "2         3138.53  [435.27]\n",
      "3        -2824.38  [484.31]\n",
      "4         4113.05  [473.55]\n",
      "\n"
     ]
    }
   ],
   "source": [
    "# list to hold predictions of the 4 models as tuples (kernal, prediction)\n",
    "svr_predictions = []\n",
    "# make predicitons for all 4 models\n",
    "for model in svr_models:\n",
    "    svr_predictions.append((model[0], model[1].predict(X_test)))\n",
    "# show preditions in tables\n",
    "for prediction in svr_predictions:\n",
    "    print(f\"{pd.DataFrame([scy.inverse_transform(prediction[1]), scy.inverse_transform(y_test)], index=['Predict ' + prediction[0], 'Test']).T.head()}\")\n",
    "    print()"
   ]
  },
  {
   "cell_type": "markdown",
   "metadata": {},
   "source": [
    "# Measuring the Model Performances\n",
    "Performance of regression models is typically measured using Root Mean Square Error RMSE. I will calculate the RMSE and prediction accuracy of each model.\n",
    "\n",
    "## Multiple Regression Model"
   ]
  },
  {
   "cell_type": "code",
   "execution_count": 89,
   "metadata": {},
   "outputs": [
    {
     "name": "stdout",
     "output_type": "stream",
     "text": [
      "RMSE: 0.26420086441266966\n",
      "\n"
     ]
    }
   ],
   "source": [
    "from sklearn.metrics import mean_squared_error\n",
    "rmse = (mean_squared_error(y_pred_linear, y_test))**0.5\n",
    "print(f'RMSE: {rmse}\\n')"
   ]
  },
  {
   "cell_type": "markdown",
   "metadata": {},
   "source": [
    "## SVR Models"
   ]
  },
  {
   "cell_type": "code",
   "execution_count": 92,
   "metadata": {},
   "outputs": [
    {
     "name": "stdout",
     "output_type": "stream",
     "text": [
      "SVR using kernal linear\n",
      "RMSE: 0.2642502598784891\n",
      "\n",
      "SVR using kernal poly\n",
      "RMSE: 0.46374319155186755\n",
      "\n",
      "SVR using kernal rbf\n",
      "RMSE: 0.23136443481901295\n",
      "\n",
      "SVR using kernal sigmoid\n",
      "RMSE: 156.3870383804716\n",
      "\n"
     ]
    }
   ],
   "source": [
    "for prediction, model in zip(svr_predictions, svr_models):\n",
    "    rmse = (mean_squared_error(prediction[1], y_test))**0.5\n",
    "    print(f'SVR using kernal {prediction[0]}\\nRMSE: {rmse}\\n')"
   ]
  },
  {
   "cell_type": "markdown",
   "metadata": {},
   "source": [
    "# Conclusion\n",
    "From my analysis of both the scaled and non-scaled data using a multiple regression model and SVR models using kernals linear, poly, rbf, and sigmoid I determined that the best model for this set of data is a SVR model using the rbf kernal. This model had a RMSE of approximately 0.23. "
   ]
  }
 ],
 "metadata": {
  "interpreter": {
   "hash": "51afa76c9cec09a39cd42c306ec3c3e22074ca702f273726ea1f50dadf4bde15"
  },
  "kernelspec": {
   "display_name": "Python 3",
   "language": "python",
   "name": "python3"
  },
  "language_info": {
   "codemirror_mode": {
    "name": "ipython",
    "version": 3
   },
   "file_extension": ".py",
   "mimetype": "text/x-python",
   "name": "python",
   "nbconvert_exporter": "python",
   "pygments_lexer": "ipython3",
   "version": "3.8.3"
  }
 },
 "nbformat": 4,
 "nbformat_minor": 2
}
